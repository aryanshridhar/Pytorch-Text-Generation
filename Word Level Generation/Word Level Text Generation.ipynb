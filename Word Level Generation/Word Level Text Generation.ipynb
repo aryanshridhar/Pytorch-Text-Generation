{
 "cells": [
  {
   "cell_type": "markdown",
   "metadata": {},
   "source": [
    "#### Importing Libraries"
   ]
  },
  {
   "cell_type": "code",
   "execution_count": 1,
   "metadata": {},
   "outputs": [],
   "source": [
    "import PyPDF2\n",
    "import torch.nn as nn\n",
    "from sklearn.feature_extraction.text import CountVectorizer\n",
    "import numpy as np\n",
    "import torch\n",
    "from nltk.corpus import stopwords\n",
    "import pandas as pd\n",
    "import torch.optim as optim\n",
    "import matplotlib.pyplot as plt\n",
    "import nltk\n",
    "import re\n",
    "import numpy as np\n",
    "\n",
    "pd.options.display.max_rows = 4000"
   ]
  },
  {
   "cell_type": "markdown",
   "metadata": {},
   "source": [
    "#### Helper Class"
   ]
  },
  {
   "cell_type": "code",
   "execution_count": 2,
   "metadata": {},
   "outputs": [],
   "source": [
    "class GetText: # class to extract text from the .txt file passed\n",
    "    def __init__(self , text_file):\n",
    "        \n",
    "        with open(text_file , 'r') as file:\n",
    "            self.text = file.read()"
   ]
  },
  {
   "cell_type": "code",
   "execution_count": 3,
   "metadata": {},
   "outputs": [
    {
     "name": "stdout",
     "output_type": "stream",
     "text": [
      "4573337\n"
     ]
    }
   ],
   "source": [
    "data = GetText('Dataset.txt')\n",
    "text = data.text\n",
    "print(len(text))"
   ]
  },
  {
   "cell_type": "markdown",
   "metadata": {},
   "source": [
    "#### Processing the Text"
   ]
  },
  {
   "cell_type": "code",
   "execution_count": 4,
   "metadata": {},
   "outputs": [],
   "source": [
    "class TextPreprocessing: # Only retains the non digit/number characters\n",
    "    def __init__(self , text):\n",
    "        self.text = text.lower()\n",
    "        \n",
    "        self.new_para = []\n",
    "        for i in nltk.word_tokenize(self.text):\n",
    "            self.new_para.append(re.sub('[^a-zA-Z]', \"\" , i))\n",
    "            \n",
    "        \n",
    "        \n",
    "        self.text = \" \".join(self.new_para)"
   ]
  },
  {
   "cell_type": "code",
   "execution_count": 5,
   "metadata": {},
   "outputs": [],
   "source": [
    "t1 = TextPreprocessing(text)"
   ]
  },
  {
   "cell_type": "code",
   "execution_count": 6,
   "metadata": {},
   "outputs": [
    {
     "data": {
      "text/plain": [
       "4531602"
      ]
     },
     "execution_count": 6,
     "metadata": {},
     "output_type": "execute_result"
    }
   ],
   "source": [
    "data = t1.text\n",
    "len(data)"
   ]
  },
  {
   "cell_type": "code",
   "execution_count": 7,
   "metadata": {},
   "outputs": [
    {
     "name": "stdout",
     "output_type": "stream",
     "text": [
      "849445\n"
     ]
    }
   ],
   "source": [
    "word_list = nltk.word_tokenize(data)\n",
    "print(len(word_list))"
   ]
  },
  {
   "cell_type": "code",
   "execution_count": 8,
   "metadata": {},
   "outputs": [],
   "source": [
    "def remove_dup(seq): # Removes duplicate words from the dataset passed\n",
    "    seen = set()\n",
    "    seen_add = seen.add\n",
    "    return [x for x in seq if not (x in seen or seen_add(x))]"
   ]
  },
  {
   "cell_type": "code",
   "execution_count": 9,
   "metadata": {},
   "outputs": [],
   "source": [
    "word_list = remove_dup(word_list)"
   ]
  },
  {
   "cell_type": "code",
   "execution_count": 10,
   "metadata": {},
   "outputs": [
    {
     "data": {
      "text/plain": [
       "25495"
      ]
     },
     "execution_count": 10,
     "metadata": {},
     "output_type": "execute_result"
    }
   ],
   "source": [
    "word_dict = {}\n",
    "for i in range(len(word_list)):\n",
    "    if word_list[i] not in word_dict:\n",
    "        word_dict[word_list[i]] = i\n",
    "        \n",
    "\n",
    "len(word_dict)"
   ]
  },
  {
   "cell_type": "code",
   "execution_count": 11,
   "metadata": {},
   "outputs": [],
   "source": [
    "int_text = [word_dict[w] for w in word_dict]"
   ]
  },
  {
   "cell_type": "markdown",
   "metadata": {},
   "source": [
    "#### LSTM Model"
   ]
  },
  {
   "cell_type": "code",
   "execution_count": 12,
   "metadata": {},
   "outputs": [],
   "source": [
    "class TextGenRNN(nn.Module):\n",
    "    def __init__(self , input_size , hidden_size , output_size , n_layers):\n",
    "        \n",
    "        super(TextGenRNN , self).__init__()\n",
    "        self.input_size = input_size\n",
    "        self.hidden_size = hidden_size\n",
    "        self.output_size = output_size\n",
    "        self.n_layers = n_layers\n",
    "        \n",
    "        self.embedding = nn.Embedding(self.input_size, self.hidden_size)\n",
    "        self.rnn = nn.LSTM(self.hidden_size , self.hidden_size , batch_first = True)\n",
    "        self.linear = nn.Linear(self.hidden_size , self.output_size)\n",
    "        \n",
    "    def forward(self , batch):\n",
    "        batch = batch.long()\n",
    "        out = self.embedding(batch)\n",
    "        out , _ = self.rnn(out)\n",
    "        out = self.linear(out)\n",
    "        \n",
    "        return out"
   ]
  },
  {
   "cell_type": "markdown",
   "metadata": {},
   "source": [
    "#### Gen Class for LSTM Model"
   ]
  },
  {
   "cell_type": "code",
   "execution_count": 13,
   "metadata": {},
   "outputs": [],
   "source": [
    "class Generation:\n",
    "    def __init__(self, int_text , word_dict):\n",
    "        \n",
    "\n",
    "        self.seq_len = 32 # predicting next word form the previous 32 words\n",
    "        self.batch_size = 16 # total of 16 , 32 seq in a batch\n",
    "        \n",
    "        self.word_dict = {i:j for j,i in word_dict.items()}\n",
    "        \n",
    "        self.int_text = int_text[:-(len(int_text) % (self.seq_len * self.batch_size))] # for forming excat batch sizes\n",
    "        \n",
    "        self.input_size = int_text[-1]\n",
    "        self.hidden_size = 256\n",
    "        self.output_size = self.input_size\n",
    "        self.n_layers = 1\n",
    "        self.epochs = 50\n",
    "        self.print_every = 2\n",
    "        self.lr = 0.001\n",
    "        \n",
    "        self.rnn = TextGenRNN(self.input_size , \n",
    "                              self.hidden_size , \n",
    "                              self.output_size , \n",
    "                              self.n_layers)\n",
    "        \n",
    "\n",
    "    def get_batches(self):\n",
    "    \n",
    "        i = 0\n",
    "        counter = 0    \n",
    "        no_time = len(self.int_text) // (self.seq_len * self.batch_size)\n",
    "        \n",
    "        while i != int(no_time)-1:\n",
    "            \n",
    "            x_list = []\n",
    "            y_seq = []\n",
    "            \n",
    "            for _ in range(self.batch_size):\n",
    "                x_list.append(self.int_text[counter:self.seq_len+counter])\n",
    "                y_seq.append(self.int_text[counter + 1:self.seq_len+counter+1])\n",
    "                counter += self.seq_len\n",
    "            \n",
    "            i += 1\n",
    "            yield x_list,y_seq\n",
    "            \n",
    "            \n",
    "    def show_batches(self):\n",
    "        for i,j in self.get_batches():\n",
    "            i , j = torch.Tensor(i).long() , torch.Tensor(j).long()\n",
    "            print(i)\n",
    "            print(j)\n",
    "            break\n",
    "            \n",
    "    def init_loss(self):\n",
    "        \n",
    "        self.rnn = TextGenRNN(self.input_size , \n",
    "                              self.hidden_size , \n",
    "                              self.output_size , \n",
    "                              self.n_layers)\n",
    "        \n",
    "        self.criterion = nn.CrossEntropyLoss()\n",
    "        \n",
    "        for epoch in range(self.epochs):\n",
    "            for label,actual in self.get_batches():\n",
    "                    \n",
    "                label = torch.Tensor(label).float()\n",
    "                actual = torch.Tensor(actual).long()\n",
    "            \n",
    "                y_pred = self.rnn(label)\n",
    "                y_pred = y_pred.transpose(1,2)\n",
    "                loss = self.criterion(y_pred,actual)\n",
    "                \n",
    "                print(loss.item())\n",
    "                break\n",
    "            break\n",
    "            \n",
    "    def train(self):\n",
    "        \n",
    "        self.iterations = []\n",
    "        self.loss_ = []\n",
    "        \n",
    "        self.criterion = nn.CrossEntropyLoss()\n",
    "        \n",
    "        self.optimizer = optim.Adam(self.rnn.parameters() , lr = self.lr)\n",
    "        \n",
    "        for epoch in range(self.epochs):\n",
    "            for label,actual in self.get_batches():\n",
    "\n",
    "                    \n",
    "                label = torch.Tensor(label).float()\n",
    "                actual = torch.Tensor(actual).long()\n",
    "            \n",
    "                y_pred = self.rnn(label)\n",
    "                y_pred = y_pred.transpose(1,2)\n",
    "                \n",
    "                loss = self.criterion(y_pred,actual)\n",
    "                \n",
    "                loss.backward()\n",
    "                \n",
    "                with torch.no_grad():\n",
    "                    \n",
    "                    self.optimizer.step()\n",
    "                    self.optimizer.zero_grad()\n",
    "                    \n",
    "            self.iterations.append(epoch)\n",
    "            self.loss_.append(loss)\n",
    "            \n",
    "            if epoch % self.print_every == 0:\n",
    "                print(f\"Loss after {epoch} iteration : {loss}\")\n",
    "                \n",
    "                \n",
    "        self.show_plot(self.iterations , self.loss_)\n",
    "                \n",
    "                \n",
    "    def show_plot(self,x,y):\n",
    "        plt.plot(x,y)\n",
    "        plt.xlabel('Epoch/Iteration')\n",
    "        plt.ylabel('Loss')\n",
    "        plt.show()\n",
    "        \n",
    "        \n",
    "    def generate_text(self , init_str = 'if they would',predict_len = 200):\n",
    "        \n",
    "        generated_list = []\n",
    "        \n",
    "        for _ in range(predict_len):\n",
    "            encoded_input = torch.Tensor([word_dict[w] for w in init_str.lower().split(' ')]).long().unsqueeze(0)\n",
    "            gen_text = self.rnn(encoded_input)\n",
    "            _ , max_ele = torch.topk(gen_text[0] , k = 1)\n",
    "            generated_list.append(self.word_dict[max_ele[0].item()])\n",
    "            \n",
    "            init_str = self.word_dict[max_ele[0].item()]\n",
    "            \n",
    "            \n",
    "        return \" \".join(generated_list)"
   ]
  },
  {
   "cell_type": "markdown",
   "metadata": {},
   "source": [
    "#### Training the Model"
   ]
  },
  {
   "cell_type": "code",
   "execution_count": 14,
   "metadata": {},
   "outputs": [],
   "source": [
    "g1 = Generation(int_text , word_dict)"
   ]
  },
  {
   "cell_type": "code",
   "execution_count": 15,
   "metadata": {
    "scrolled": true
   },
   "outputs": [
    {
     "name": "stdout",
     "output_type": "stream",
     "text": [
      "tensor([[  0,   1,   2,   3,   4,   5,   6,   7,   8,   9,  10,  11,  12,  13,\n",
      "          14,  15,  16,  17,  18,  19,  20,  21,  22,  23,  24,  25,  26,  27,\n",
      "          28,  29,  30,  31],\n",
      "        [ 32,  33,  34,  35,  36,  37,  38,  39,  40,  41,  42,  43,  44,  45,\n",
      "          46,  47,  48,  49,  50,  51,  52,  53,  54,  55,  56,  57,  58,  59,\n",
      "          60,  61,  62,  63],\n",
      "        [ 64,  65,  66,  67,  68,  69,  70,  71,  72,  73,  74,  75,  76,  77,\n",
      "          78,  79,  80,  81,  82,  83,  84,  85,  86,  87,  88,  89,  90,  91,\n",
      "          92,  93,  94,  95],\n",
      "        [ 96,  97,  98,  99, 100, 101, 102, 103, 104, 105, 106, 107, 108, 109,\n",
      "         110, 111, 112, 113, 114, 115, 116, 117, 118, 119, 120, 121, 122, 123,\n",
      "         124, 125, 126, 127],\n",
      "        [128, 129, 130, 131, 132, 133, 134, 135, 136, 137, 138, 139, 140, 141,\n",
      "         142, 143, 144, 145, 146, 147, 148, 149, 150, 151, 152, 153, 154, 155,\n",
      "         156, 157, 158, 159],\n",
      "        [160, 161, 162, 163, 164, 165, 166, 167, 168, 169, 170, 171, 172, 173,\n",
      "         174, 175, 176, 177, 178, 179, 180, 181, 182, 183, 184, 185, 186, 187,\n",
      "         188, 189, 190, 191],\n",
      "        [192, 193, 194, 195, 196, 197, 198, 199, 200, 201, 202, 203, 204, 205,\n",
      "         206, 207, 208, 209, 210, 211, 212, 213, 214, 215, 216, 217, 218, 219,\n",
      "         220, 221, 222, 223],\n",
      "        [224, 225, 226, 227, 228, 229, 230, 231, 232, 233, 234, 235, 236, 237,\n",
      "         238, 239, 240, 241, 242, 243, 244, 245, 246, 247, 248, 249, 250, 251,\n",
      "         252, 253, 254, 255],\n",
      "        [256, 257, 258, 259, 260, 261, 262, 263, 264, 265, 266, 267, 268, 269,\n",
      "         270, 271, 272, 273, 274, 275, 276, 277, 278, 279, 280, 281, 282, 283,\n",
      "         284, 285, 286, 287],\n",
      "        [288, 289, 290, 291, 292, 293, 294, 295, 296, 297, 298, 299, 300, 301,\n",
      "         302, 303, 304, 305, 306, 307, 308, 309, 310, 311, 312, 313, 314, 315,\n",
      "         316, 317, 318, 319],\n",
      "        [320, 321, 322, 323, 324, 325, 326, 327, 328, 329, 330, 331, 332, 333,\n",
      "         334, 335, 336, 337, 338, 339, 340, 341, 342, 343, 344, 345, 346, 347,\n",
      "         348, 349, 350, 351],\n",
      "        [352, 353, 354, 355, 356, 357, 358, 359, 360, 361, 362, 363, 364, 365,\n",
      "         366, 367, 368, 369, 370, 371, 372, 373, 374, 375, 376, 377, 378, 379,\n",
      "         380, 381, 382, 383],\n",
      "        [384, 385, 386, 387, 388, 389, 390, 391, 392, 393, 394, 395, 396, 397,\n",
      "         398, 399, 400, 401, 402, 403, 404, 405, 406, 407, 408, 409, 410, 411,\n",
      "         412, 413, 414, 415],\n",
      "        [416, 417, 418, 419, 420, 421, 422, 423, 424, 425, 426, 427, 428, 429,\n",
      "         430, 431, 432, 433, 434, 435, 436, 437, 438, 439, 440, 441, 442, 443,\n",
      "         444, 445, 446, 447],\n",
      "        [448, 449, 450, 451, 452, 453, 454, 455, 456, 457, 458, 459, 460, 461,\n",
      "         462, 463, 464, 465, 466, 467, 468, 469, 470, 471, 472, 473, 474, 475,\n",
      "         476, 477, 478, 479],\n",
      "        [480, 481, 482, 483, 484, 485, 486, 487, 488, 489, 490, 491, 492, 493,\n",
      "         494, 495, 496, 497, 498, 499, 500, 501, 502, 503, 504, 505, 506, 507,\n",
      "         508, 509, 510, 511]])\n",
      "tensor([[  1,   2,   3,   4,   5,   6,   7,   8,   9,  10,  11,  12,  13,  14,\n",
      "          15,  16,  17,  18,  19,  20,  21,  22,  23,  24,  25,  26,  27,  28,\n",
      "          29,  30,  31,  32],\n",
      "        [ 33,  34,  35,  36,  37,  38,  39,  40,  41,  42,  43,  44,  45,  46,\n",
      "          47,  48,  49,  50,  51,  52,  53,  54,  55,  56,  57,  58,  59,  60,\n",
      "          61,  62,  63,  64],\n",
      "        [ 65,  66,  67,  68,  69,  70,  71,  72,  73,  74,  75,  76,  77,  78,\n",
      "          79,  80,  81,  82,  83,  84,  85,  86,  87,  88,  89,  90,  91,  92,\n",
      "          93,  94,  95,  96],\n",
      "        [ 97,  98,  99, 100, 101, 102, 103, 104, 105, 106, 107, 108, 109, 110,\n",
      "         111, 112, 113, 114, 115, 116, 117, 118, 119, 120, 121, 122, 123, 124,\n",
      "         125, 126, 127, 128],\n",
      "        [129, 130, 131, 132, 133, 134, 135, 136, 137, 138, 139, 140, 141, 142,\n",
      "         143, 144, 145, 146, 147, 148, 149, 150, 151, 152, 153, 154, 155, 156,\n",
      "         157, 158, 159, 160],\n",
      "        [161, 162, 163, 164, 165, 166, 167, 168, 169, 170, 171, 172, 173, 174,\n",
      "         175, 176, 177, 178, 179, 180, 181, 182, 183, 184, 185, 186, 187, 188,\n",
      "         189, 190, 191, 192],\n",
      "        [193, 194, 195, 196, 197, 198, 199, 200, 201, 202, 203, 204, 205, 206,\n",
      "         207, 208, 209, 210, 211, 212, 213, 214, 215, 216, 217, 218, 219, 220,\n",
      "         221, 222, 223, 224],\n",
      "        [225, 226, 227, 228, 229, 230, 231, 232, 233, 234, 235, 236, 237, 238,\n",
      "         239, 240, 241, 242, 243, 244, 245, 246, 247, 248, 249, 250, 251, 252,\n",
      "         253, 254, 255, 256],\n",
      "        [257, 258, 259, 260, 261, 262, 263, 264, 265, 266, 267, 268, 269, 270,\n",
      "         271, 272, 273, 274, 275, 276, 277, 278, 279, 280, 281, 282, 283, 284,\n",
      "         285, 286, 287, 288],\n",
      "        [289, 290, 291, 292, 293, 294, 295, 296, 297, 298, 299, 300, 301, 302,\n",
      "         303, 304, 305, 306, 307, 308, 309, 310, 311, 312, 313, 314, 315, 316,\n",
      "         317, 318, 319, 320],\n",
      "        [321, 322, 323, 324, 325, 326, 327, 328, 329, 330, 331, 332, 333, 334,\n",
      "         335, 336, 337, 338, 339, 340, 341, 342, 343, 344, 345, 346, 347, 348,\n",
      "         349, 350, 351, 352],\n",
      "        [353, 354, 355, 356, 357, 358, 359, 360, 361, 362, 363, 364, 365, 366,\n",
      "         367, 368, 369, 370, 371, 372, 373, 374, 375, 376, 377, 378, 379, 380,\n",
      "         381, 382, 383, 384],\n",
      "        [385, 386, 387, 388, 389, 390, 391, 392, 393, 394, 395, 396, 397, 398,\n",
      "         399, 400, 401, 402, 403, 404, 405, 406, 407, 408, 409, 410, 411, 412,\n",
      "         413, 414, 415, 416],\n",
      "        [417, 418, 419, 420, 421, 422, 423, 424, 425, 426, 427, 428, 429, 430,\n",
      "         431, 432, 433, 434, 435, 436, 437, 438, 439, 440, 441, 442, 443, 444,\n",
      "         445, 446, 447, 448],\n",
      "        [449, 450, 451, 452, 453, 454, 455, 456, 457, 458, 459, 460, 461, 462,\n",
      "         463, 464, 465, 466, 467, 468, 469, 470, 471, 472, 473, 474, 475, 476,\n",
      "         477, 478, 479, 480],\n",
      "        [481, 482, 483, 484, 485, 486, 487, 488, 489, 490, 491, 492, 493, 494,\n",
      "         495, 496, 497, 498, 499, 500, 501, 502, 503, 504, 505, 506, 507, 508,\n",
      "         509, 510, 511, 512]])\n"
     ]
    }
   ],
   "source": [
    "g1.show_batches()"
   ]
  },
  {
   "cell_type": "code",
   "execution_count": 16,
   "metadata": {},
   "outputs": [
    {
     "name": "stdout",
     "output_type": "stream",
     "text": [
      "10.153639793395996\n"
     ]
    }
   ],
   "source": [
    "g1.init_loss()"
   ]
  },
  {
   "cell_type": "code",
   "execution_count": 17,
   "metadata": {},
   "outputs": [
    {
     "name": "stdout",
     "output_type": "stream",
     "text": [
      "Loss after 0 iteration : 10.152101516723633\n",
      "Loss after 2 iteration : 8.500555992126465\n",
      "Loss after 4 iteration : 5.131058692932129\n",
      "Loss after 6 iteration : 2.3446688652038574\n",
      "Loss after 8 iteration : 0.6937149167060852\n",
      "Loss after 10 iteration : 0.2676803767681122\n",
      "Loss after 12 iteration : 0.138881653547287\n",
      "Loss after 14 iteration : 0.09104717522859573\n",
      "Loss after 16 iteration : 0.06797119230031967\n",
      "Loss after 18 iteration : 0.05377395451068878\n",
      "Loss after 20 iteration : 0.04401811957359314\n",
      "Loss after 22 iteration : 0.036893557757139206\n",
      "Loss after 24 iteration : 0.031470321118831635\n",
      "Loss after 26 iteration : 0.027213547378778458\n",
      "Loss after 28 iteration : 0.023791925981640816\n",
      "Loss after 30 iteration : 0.02098863758146763\n",
      "Loss after 32 iteration : 0.018655704334378242\n",
      "Loss after 34 iteration : 0.016688598319888115\n",
      "Loss after 36 iteration : 0.015011390671133995\n",
      "Loss after 38 iteration : 0.013567591086030006\n",
      "Loss after 40 iteration : 0.01231429073959589\n",
      "Loss after 42 iteration : 0.011218366213142872\n",
      "Loss after 44 iteration : 0.010253814049065113\n",
      "Loss after 46 iteration : 0.009399986825883389\n",
      "Loss after 48 iteration : 0.008640233427286148\n"
     ]
    },
    {
     "data": {
      "image/png": "[encoded data removed]",
      "text/plain": [
       "<Figure size 432x288 with 1 Axes>"
      ]
     },
     "metadata": {
      "needs_background": "light"
     },
     "output_type": "display_data"
    }
   ],
   "source": [
    "g1.train()"
   ]
  },
  {
   "cell_type": "markdown",
   "metadata": {},
   "source": [
    "#### Generating Text"
   ]
  },
  {
   "cell_type": "code",
   "execution_count": 18,
   "metadata": {},
   "outputs": [
    {
     "data": {
      "text/plain": [
       "'they yield but superfluity while were wholesome might guess relieved humanely think too dear leanness that afflicts object of misery as an inventory particularise their abundance sufferance gain them revenge this with pikes ere become rakes for gods i in hunger bread not thirst especially against he s very dog commonalty consider services has his country well could content give report fort pays himself being proud nay maliciously say unto hath famously did end though softconscienced men can was please mother partly which even till altitude virtue help nature account vice must way covetous need barren accusations faults surplus tire'"
      ]
     },
     "execution_count": 18,
     "metadata": {},
     "output_type": "execute_result"
    }
   ],
   "source": [
    "g1.generate_text(predict_len = 100)"
   ]
  },
  {
   "cell_type": "code",
   "execution_count": 19,
   "metadata": {},
   "outputs": [
    {
     "data": {
      "text/plain": [
       "'they yield but superfluity while were wholesome might guess relieved humanely think too dear leanness that afflicts object of misery as an inventory particularise their abundance sufferance gain them revenge this with pikes ere become rakes for gods i in hunger bread not thirst especially against he s very dog commonalty consider services has his country well could content give report fort pays himself being proud nay maliciously say unto hath famously did end though softconscienced men can was please mother partly which even till altitude virtue help nature account vice must way covetous need barren accusations faults surplus tire repetition shouts these other side city risen why stay prating here capitol come soft who comes worthy menenius agrippa always loved honest enough rest so work my countrymen hand where go bats clubs matter pray business unknown senate had inkling fortnight intend do now show em deeds suitors strong breaths shall arms masters friends mine neighbours will undo yourselves sir undone already tell most charitable care your wants suffering dearth may strike heaven staves lift roman state whose course takes cracking ten thousand curbs link asunder ever appear impediment make knees alack transported by calamity thither attends slander helms like fathers when curse enemies true indeed neer cared yet suffer storehouses crammed grain edicts usury support usurers repeal daily act established rich provide piercing statutes chain up restrain wars eat there love bear either confess wondrous malicious or accused folly pretty tale heard since serves purpose venture stale t little fob off disgrace deliver time body members rebell d belly thus only gulf remain midst idle unactive still cupboarding viand never bearing labour instruments see devise instruct walk feel mutually participate minister appetite affection common whole answer made kind smile came from lungs look tauntingly replied discontented mutinous parts envied receipt fitly malign senators such kinglycrowned head vigilant eye counsellor heart arm soldier steed leg tongue trumpeter muniments petty helps fabric then fore fellow speaks should cormorant sink former agents complain bestow small patience awhile ye re long about note friend grave deliberate rash accusers incorporate quoth receive general food live upon fit because am storehouse shop remember send through rivers blood court seat brain cranks offices man strongest nerves inferior veins natural competency whereby once says mark ay out each audit back flour leave bran tot how apply rome examine counsels cares digest things rightly touching weal find public benefit proceeds great toe assembly lowest basest poorest wise rebellion thou gost foremost rascal art worst run leadst win some vantage ready stiff her rats point battle bale hail noble thanks dissentious rogues rubbing itch opinion scabs words thee flatter beneath abhorring curs nor peace war affrights makes trusts lions finds hares foxes geese surer coal fire ice hailstone sun offence subdues justice deserves greatness hate affections sick desires increase evil depends favours swims fins lead hews down oaks rushes hang trust every minute change mind call vile garland several places cry under keep awe else feed another seeking rates whereof stored sit presume rise thrives declines factions conjectural marriages making parties feebling stand liking below cobbled shoes theres nobility lay aside ruth use sword quarry thousands quarter slaves high pick lance almost thoroughly persuaded abundantly lack discretion passing cowardly beseech troop dissolved said anhungry sigh forth proverbs broke stone walls dogs meat mouths sent shreds vented complainings petition granted strange break generosity bold power pale threw caps horns moon shouting emulation five tribunes defend vulgar wisdoms choice junius brutus sicinius velutus sdeath rabble unroof prevail throw greater themes insurrection arguing get home fragments messenger news volsces glad ha means vent musty best elders senator lately told leader tullus aufidius put sin envying thing wish cominius fought together half world ears party ild revolt lion hunt attend promise constant titus lartius shalt face standst lean crutch fight tother behind truebred company greatest follow much take gnaw garners worshipful mutiners valour puts equal chosen lip eyes taunts moved spare gird bemock modest present devour grown valiant tickled success disdains shadow treads noon wonder insolence brook commanded fame aims whom graced better held attain place miscarries fault perform utmost giddy censure borne besides sticks demerits rob honours earned aught merit hence dispatch fashion singularity goes action lets along entered yours been thought brought bodily circumvention four days gone thence letter yes press known whether east west rumour old worse hated three preparation whither bent likely army field doubt pretences veil needs themselves hatching seem discovery shorten aim many towns afoot commission hie bands alone guard corioli set remove bring ve prepared certainties parcels hitherward chance meet tis sworn between assist safe farewell volumnia daughter sing express yourself comfortable sort son husband freelier rejoice absence wherein won honour embracements bed tenderbodied womb youth comeliness plucked gaze day kings entreaties sell hour beholding considering person picturelike wall renown stir pleased seek danger cruel whence returned brows bound oak sprang joy hearing manchild seeing proved virgilia died madam therein found issue profess sincerely dozen sons alike none less thine eleven nobly voluptuously surfeit gentlewoman lady valeria visit retire myself methinks hither drum pluck hair children shunning stamp cowards got fear born bloody brow mail wiping harvestman task mow lose hire jupiter fool becomes gilt trophy breasts hecuba she suckle hector lovelier forehead spit grecian contemning bid welcome heavens bless lord fell beat knee tread neck ladies both sweet ladyship manifest housekeepers sewing fine spot faith does thank swords schoolmaster father swear boy troth looked wednesday confirmed countenance saw after gilded butterfly caught again over catched fall enraged teeth tear warrant mammocked moods la child crack stitchery play husewife afternoon doors threshold return fie confine unreasonably lies speedy strength prayers save want penelope yarn spun ulysses fill ithaca full moths cambric sensible finger pricking pity pardon truth excellent verily jest last night earnest part nothing prevailing brief excuse obey hereafter disease mirth fare prithee turn thy solemness door yonder wager met horse agreed lie view spoke buy lend hundred years summon town far armies within mile'"
      ]
     },
     "execution_count": 19,
     "metadata": {},
     "output_type": "execute_result"
    }
   ],
   "source": [
    "g1.generate_text(predict_len = 1000)"
   ]
  },
  {
   "cell_type": "code",
   "execution_count": null,
   "metadata": {},
   "outputs": [],
   "source": []
  },
  {
   "cell_type": "code",
   "execution_count": null,
   "metadata": {},
   "outputs": [],
   "source": []
  }
 ],
 "metadata": {
  "kernelspec": {
   "display_name": "Python 3",
   "language": "python",
   "name": "python3"
  },
  "language_info": {
   "codemirror_mode": {
    "name": "ipython",
    "version": 3
   },
   "file_extension": ".py",
   "mimetype": "text/x-python",
   "name": "python",
   "nbconvert_exporter": "python",
   "pygments_lexer": "ipython3",
   "version": "3.7.6"
  }
 },
 "nbformat": 4,
 "nbformat_minor": 4
}
