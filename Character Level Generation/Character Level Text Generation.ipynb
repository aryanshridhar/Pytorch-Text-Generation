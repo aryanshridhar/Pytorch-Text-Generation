{
 "cells": [
  {
   "cell_type": "code",
   "execution_count": 80,
   "metadata": {
    "colab": {
     "base_uri": "https://localhost:8080/",
     "height": 245
    },
    "colab_type": "code",
    "id": "Xy37lJbi3blj",
    "outputId": "d3a1486c-9864-49ed-ad75-3266a6eaa84d"
   },
   "outputs": [
    {
     "name": "stdout",
     "output_type": "stream",
     "text": [
      "Requirement already satisfied: torch in /usr/local/lib/python3.6/dist-packages (1.5.1+cu101)\n",
      "Requirement already satisfied: pandas in /usr/local/lib/python3.6/dist-packages (1.0.5)\n",
      "Requirement already satisfied: numpy in /usr/local/lib/python3.6/dist-packages (1.18.5)\n",
      "Requirement already satisfied: matplotlib in /usr/local/lib/python3.6/dist-packages (3.2.2)\n",
      "Requirement already satisfied: nltk in /usr/local/lib/python3.6/dist-packages (3.2.5)\n",
      "Requirement already satisfied: future in /usr/local/lib/python3.6/dist-packages (from torch) (0.16.0)\n",
      "Requirement already satisfied: pytz>=2017.2 in /usr/local/lib/python3.6/dist-packages (from pandas) (2018.9)\n",
      "Requirement already satisfied: python-dateutil>=2.6.1 in /usr/local/lib/python3.6/dist-packages (from pandas) (2.8.1)\n",
      "Requirement already satisfied: pyparsing!=2.0.4,!=2.1.2,!=2.1.6,>=2.0.1 in /usr/local/lib/python3.6/dist-packages (from matplotlib) (2.4.7)\n",
      "Requirement already satisfied: cycler>=0.10 in /usr/local/lib/python3.6/dist-packages (from matplotlib) (0.10.0)\n",
      "Requirement already satisfied: kiwisolver>=1.0.1 in /usr/local/lib/python3.6/dist-packages (from matplotlib) (1.2.0)\n",
      "Requirement already satisfied: six in /usr/local/lib/python3.6/dist-packages (from nltk) (1.12.0)\n"
     ]
    }
   ],
   "source": [
    "!pip install torch pandas numpy matplotlib nltk"
   ]
  },
  {
   "cell_type": "code",
   "execution_count": 81,
   "metadata": {
    "colab": {},
    "colab_type": "code",
    "id": "Uwnu1fVb3gHR"
   },
   "outputs": [],
   "source": [
    "import string\n",
    "import numpy as np\n",
    "import matplotlib.pyplot as plt\n",
    "import pandas as pd\n",
    "import nltk\n",
    "import torch\n",
    "import torch.nn as nn\n",
    "import torch.optim as optim\n",
    "import torch.nn.functional as F\n",
    "import re\n",
    "from nltk.corpus import stopwords\n",
    "import unidecode\n",
    "import time"
   ]
  },
  {
   "cell_type": "code",
   "execution_count": 82,
   "metadata": {
    "colab": {
     "base_uri": "https://localhost:8080/",
     "height": 124
    },
    "colab_type": "code",
    "id": "EuehMR8T3kv_",
    "outputId": "bf03c643-e7b1-4116-f56a-284f51880ab2"
   },
   "outputs": [
    {
     "name": "stdout",
     "output_type": "stream",
     "text": [
      "Requirement already satisfied: requests in /usr/local/lib/python3.6/dist-packages (2.23.0)\n",
      "Requirement already satisfied: certifi>=2017.4.17 in /usr/local/lib/python3.6/dist-packages (from requests) (2020.6.20)\n",
      "Requirement already satisfied: idna<3,>=2.5 in /usr/local/lib/python3.6/dist-packages (from requests) (2.9)\n",
      "Requirement already satisfied: urllib3!=1.25.0,!=1.25.1,<1.26,>=1.21.1 in /usr/local/lib/python3.6/dist-packages (from requests) (1.24.3)\n",
      "Requirement already satisfied: chardet<4,>=3.0.2 in /usr/local/lib/python3.6/dist-packages (from requests) (3.0.4)\n"
     ]
    }
   ],
   "source": [
    "!pip install requests"
   ]
  },
  {
   "cell_type": "code",
   "execution_count": 83,
   "metadata": {
    "colab": {},
    "colab_type": "code",
    "id": "l5SKypIM3z0V"
   },
   "outputs": [],
   "source": [
    "import requests"
   ]
  },
  {
   "cell_type": "code",
   "execution_count": 84,
   "metadata": {
    "colab": {},
    "colab_type": "code",
    "id": "sb-RVlYM32kr"
   },
   "outputs": [],
   "source": [
    "data = requests.get('https://gist.githubusercontent.com/aryanshridhar/3f90fdf6676ce54b63fd6f165e569ec9/raw/fcf76b36cb75cf4750251bdf4e726807b1d5baa6/Data.txt')\n",
    "data = str(data.text)"
   ]
  },
  {
   "cell_type": "code",
   "execution_count": 85,
   "metadata": {
    "colab": {},
    "colab_type": "code",
    "id": "H08YLC6i39Ek"
   },
   "outputs": [],
   "source": [
    "data = re.sub('\\n' , ' ' , data)"
   ]
  },
  {
   "cell_type": "code",
   "execution_count": 86,
   "metadata": {
    "colab": {
     "base_uri": "https://localhost:8080/",
     "height": 34
    },
    "colab_type": "code",
    "id": "tLzU6Ory4BoX",
    "outputId": "2328cd08-dcff-41ed-b414-2e4c8d406182"
   },
   "outputs": [
    {
     "data": {
      "text/plain": [
       "True"
      ]
     },
     "execution_count": 86,
     "metadata": {
      "tags": []
     },
     "output_type": "execute_result"
    }
   ],
   "source": [
    "torch.cuda.is_available()"
   ]
  },
  {
   "cell_type": "code",
   "execution_count": 87,
   "metadata": {
    "colab": {},
    "colab_type": "code",
    "id": "e9sKGOPw6h_2"
   },
   "outputs": [],
   "source": [
    "device = torch.device(\"cuda\" if torch.cuda.is_available() else \"cpu\")"
   ]
  },
  {
   "cell_type": "code",
   "execution_count": 88,
   "metadata": {
    "colab": {
     "base_uri": "https://localhost:8080/",
     "height": 69
    },
    "colab_type": "code",
    "id": "OjT0XG-b8Vlv",
    "outputId": "164f8678-0990-4246-eb52-22a95e239e5c"
   },
   "outputs": [
    {
     "name": "stdout",
     "output_type": "stream",
     "text": [
      "0123456789abcdefghijklmnopqrstuvwxyzABCDEFGHIJKLMNOPQRSTUVWXYZ!\"#$%&'()*+,-./:;<=>?@[\\]^_`{|}~ \t\n",
      "\r",
      "\u000b",
      "\f",
      "\n",
      "100\n"
     ]
    }
   ],
   "source": [
    "all_chars = string.printable\n",
    "print(all_chars)\n",
    "print(len(all_chars))"
   ]
  },
  {
   "cell_type": "code",
   "execution_count": 89,
   "metadata": {
    "colab": {},
    "colab_type": "code",
    "id": "IXO_9bR58Wir"
   },
   "outputs": [],
   "source": [
    "class TextPreprocessing:\n",
    "    def __init__(self , text):\n",
    "        self.text = text\n",
    "        self.text = unidecode.unidecode(self.text)\n",
    "        self.text = re.sub(' +',' ', self.text)"
   ]
  },
  {
   "cell_type": "code",
   "execution_count": 90,
   "metadata": {
    "colab": {},
    "colab_type": "code",
    "id": "IZr4YFtx8Zxf"
   },
   "outputs": [],
   "source": [
    "t1 = TextPreprocessing(data)"
   ]
  },
  {
   "cell_type": "code",
   "execution_count": 91,
   "metadata": {
    "colab": {},
    "colab_type": "code",
    "id": "g80qEQaV8a5I"
   },
   "outputs": [],
   "source": [
    "text = t1.text"
   ]
  },
  {
   "cell_type": "code",
   "execution_count": 92,
   "metadata": {
    "colab": {
     "base_uri": "https://localhost:8080/",
     "height": 34
    },
    "colab_type": "code",
    "id": "e5HJ4qaH8cKc",
    "outputId": "06d2666a-570a-431e-b9f5-e81ee7a4ec17"
   },
   "outputs": [
    {
     "data": {
      "text/plain": [
       "770220"
      ]
     },
     "execution_count": 92,
     "metadata": {
      "tags": []
     },
     "output_type": "execute_result"
    }
   ],
   "source": [
    "len(text)"
   ]
  },
  {
   "cell_type": "code",
   "execution_count": 93,
   "metadata": {
    "colab": {},
    "colab_type": "code",
    "id": "vTh7Q50m8d2a"
   },
   "outputs": [],
   "source": [
    "class CharGenRNN(nn.Module):\n",
    "    def __init__(self , input_size , hidden_size , output_size , n_layers):\n",
    "        \n",
    "        super(CharGenRNN , self).__init__()\n",
    "        self.input_size = input_size\n",
    "        self.hidden_size = hidden_size\n",
    "        self.output_size = output_size\n",
    "        self.n_layers = n_layers\n",
    "        \n",
    "        self.embedding = nn.Embedding(self.input_size, self.hidden_size)\n",
    "        self.rnn = nn.LSTM(self.hidden_size , \n",
    "                           self.hidden_size , \n",
    "                           self.n_layers , \n",
    "                           batch_first = True)\n",
    "        self.linear = nn.Linear(self.hidden_size, self.output_size)\n",
    "   \n",
    "    def forward(self , batch):\n",
    "        batch = batch.long()\n",
    "        out = self.embedding(batch)\n",
    "        out , _ = self.rnn(out)\n",
    "        out = self.linear(out)\n",
    "        \n",
    "        return out"
   ]
  },
  {
   "cell_type": "code",
   "execution_count": 100,
   "metadata": {
    "colab": {},
    "colab_type": "code",
    "id": "FIa9si2c8foK"
   },
   "outputs": [],
   "source": [
    "class Generation:\n",
    "    def __init__(self , text , all_chars):\n",
    "        \n",
    "        self.seq_len = 256 # predicting next character form the previous 32 characters\n",
    "        self.batch_size = 126 # total of 16 , 32 seq in a batch\n",
    "        \n",
    "        self.all_chars = {j:i for i,j in enumerate(all_chars)}\n",
    "        self.reverse_chars = {i:j for i,j in enumerate(all_chars)}\n",
    "        \n",
    "        self.text = text[:-(len(text) % (self.seq_len * self.batch_size))]\n",
    "\n",
    "        self.input_size = len(all_chars)\n",
    "        self.hidden_size = 256\n",
    "        self.output_size = self.input_size\n",
    "        self.n_layers = 2\n",
    "        self.epochs = 1000\n",
    "        self.print_every = 10\n",
    "        self.generate_every = 100\n",
    "        self.lr = 0.01\n",
    "        \n",
    "        self.rnn = CharGenRNN(self.input_size , \n",
    "                              self.hidden_size , \n",
    "                              self.output_size , \n",
    "                              self.n_layers).to(device)\n",
    "        \n",
    "\n",
    "    def get_batches(self):\n",
    "        \n",
    "        i = 0\n",
    "        counter = 0    \n",
    "        no_time = len(self.text) // (self.seq_len * self.batch_size)\n",
    "        encoded_text = list(map(lambda x : self.all_chars[x] , self.text))\n",
    "        \n",
    "        while i != int(no_time)-1:\n",
    "            \n",
    "            x_list = []\n",
    "            y_seq = []\n",
    "            \n",
    "            for _ in range(self.batch_size):\n",
    "                x_list.append(encoded_text[counter:self.seq_len+counter])\n",
    "                y_seq.append(encoded_text[counter + 1:self.seq_len+counter+1])\n",
    "                counter += self.seq_len\n",
    "            \n",
    "            i += 1\n",
    "            yield x_list,y_seq\n",
    "            \n",
    "            \n",
    "    def show_batches(self):\n",
    "        for i,j in self.get_batches():\n",
    "            i , j = torch.Tensor(i).long() , torch.Tensor(j).long()\n",
    "            print(i)\n",
    "            print(j)\n",
    "            break\n",
    "            \n",
    "    def init_loss(self):\n",
    "        \n",
    "        self.criterion = nn.CrossEntropyLoss()\n",
    "        \n",
    "        for epoch in range(self.epochs):\n",
    "            for label,actual in self.get_batches():\n",
    "                    \n",
    "                label = torch.Tensor(label).float().to(device)\n",
    "                actual = torch.Tensor(actual).long().to(device)\n",
    "            \n",
    "                y_pred = self.rnn(label)\n",
    "                y_pred = y_pred.transpose(1,2)\n",
    "                loss = self.criterion(y_pred,actual)\n",
    "                \n",
    "                print(loss.item())\n",
    "                break\n",
    "            break\n",
    "            \n",
    "    def train(self):\n",
    "        \n",
    "        time1 = time.time()\n",
    "        \n",
    "        self.iterations = []\n",
    "        self.loss_ = []\n",
    "        \n",
    "        self.criterion = nn.CrossEntropyLoss()\n",
    "        \n",
    "        self.optimizer = optim.Adam(self.rnn.parameters() , lr = self.lr)\n",
    "        \n",
    "        for epoch in range(self.epochs):\n",
    "            for label,actual in self.get_batches():\n",
    "\n",
    "                    \n",
    "                label = torch.Tensor(label).float().to(device)\n",
    "                actual = torch.Tensor(actual).long().to(device)\n",
    "            \n",
    "                y_pred = self.rnn(label)\n",
    "                y_pred = y_pred.transpose(1,2)\n",
    "                \n",
    "                loss = self.criterion(y_pred,actual)\n",
    "                \n",
    "                loss.backward()\n",
    "                \n",
    "                with torch.no_grad():\n",
    "                    \n",
    "                    self.optimizer.step()\n",
    "                    self.optimizer.zero_grad()\n",
    "                    \n",
    "            self.iterations.append(epoch)\n",
    "            self.loss_.append(loss)\n",
    "            \n",
    "            if epoch % self.print_every == 0:\n",
    "                print(f\"Loss after {epoch} iteration : {loss}\")\n",
    "                \n",
    "            if epoch % self.generate_every == 0:\n",
    "                final = time.time() - time1\n",
    "                print(f\"Time elapsed : {round(final , 2)} seconds\")\n",
    "                print(f\"Generated Text after {epoch} epoch : {self.generate_text()}\\n\")\n",
    "                \n",
    "                \n",
    "        self.show_plot(self.iterations , self.loss_)\n",
    "                \n",
    "                \n",
    "    def show_plot(self,x,y):\n",
    "        plt.plot(x,y)\n",
    "        plt.xlabel('Epoch/Iteration')\n",
    "        plt.ylabel('Loss')\n",
    "        plt.show()\n",
    "        \n",
    "    \n",
    "    def generate_text(self , init_str = 'Hello Everybody , I am ',predict_len = 200):\n",
    "        \n",
    "        generated_list = [w for w in init_str]\n",
    "        \n",
    "        for _ in range(predict_len):\n",
    "            \n",
    "            tensor = torch.Tensor([self.all_chars[generated_list[-1].lower()]]).long().unsqueeze(0)\n",
    "            out = self.rnn(tensor.to(device))\n",
    "            prob = F.softmax(out.squeeze() , dim = 0)\n",
    "            \n",
    "            value , ind = torch.topk(prob , 3)\n",
    "            index = np.random.choice(ind.tolist())\n",
    "    \n",
    "            char = self.reverse_chars[index]\n",
    "            \n",
    "            generated_list.append(char)\n",
    "            \n",
    "        return ''.join(generated_list)\n"
   ]
  },
  {
   "cell_type": "code",
   "execution_count": 101,
   "metadata": {
    "colab": {},
    "colab_type": "code",
    "id": "IrJ00Nak8g0H"
   },
   "outputs": [],
   "source": [
    "g1 = Generation(text , all_chars)"
   ]
  },
  {
   "cell_type": "code",
   "execution_count": 102,
   "metadata": {
    "colab": {
     "base_uri": "https://localhost:8080/",
     "height": 260
    },
    "colab_type": "code",
    "id": "Tg6bcy0Z8iZt",
    "outputId": "04c3d5be-6948-4ab6-dc2e-2e345db636ff"
   },
   "outputs": [
    {
     "name": "stdout",
     "output_type": "stream",
     "text": [
      "tensor([[44, 29, 94,  ..., 25, 14, 73],\n",
      "        [94, 18, 29,  ..., 29, 18, 14],\n",
      "        [28, 94, 18,  ..., 15, 10, 12],\n",
      "        ...,\n",
      "        [13, 94, 10,  ..., 28, 14, 10],\n",
      "        [75, 94, 36,  ..., 94, 21, 10],\n",
      "        [27, 16, 14,  ..., 17, 94, 22]])\n",
      "tensor([[29, 94, 32,  ..., 14, 73, 94],\n",
      "        [18, 29, 94,  ..., 18, 14, 28],\n",
      "        [94, 18, 23,  ..., 10, 12, 14],\n",
      "        ...,\n",
      "        [94, 10, 29,  ..., 14, 10, 75],\n",
      "        [94, 36, 94,  ..., 21, 10, 27],\n",
      "        [16, 14, 94,  ..., 94, 22, 18]])\n"
     ]
    }
   ],
   "source": [
    "g1.show_batches()"
   ]
  },
  {
   "cell_type": "code",
   "execution_count": 103,
   "metadata": {
    "colab": {
     "base_uri": "https://localhost:8080/",
     "height": 34
    },
    "colab_type": "code",
    "id": "Tl5uc0g18jRE",
    "outputId": "b552a659-1bcd-43d6-97ff-b7b9059de0a4"
   },
   "outputs": [
    {
     "name": "stdout",
     "output_type": "stream",
     "text": [
      "4.605172634124756\n"
     ]
    }
   ],
   "source": [
    "g1.init_loss()"
   ]
  },
  {
   "cell_type": "code",
   "execution_count": 104,
   "metadata": {
    "colab": {
     "base_uri": "https://localhost:8080/",
     "height": 1000
    },
    "colab_type": "code",
    "id": "KHWOJyuu8kL1",
    "outputId": "963aff07-e903-455b-ea13-f6652f282059"
   },
   "outputs": [
    {
     "name": "stdout",
     "output_type": "stream",
     "text": [
      "Loss after 0 iteration : 2.937901258468628\n",
      "Time elapsed : 3.97 seconds\n",
      "Generated Text after 0 epoch : Hello Everybody , I am he teenott ateee ht t t a aateeenee hteneneeeeeen a ht t h a h a aat tt htt htee ht ttt aaaa te tt a ttttte htt t aat hteen atte t htt ttt att at a att ateee ate te tteeene hen ttteee ht a te h ht ht \n",
      "\n",
      "Loss after 10 iteration : 1.8760370016098022\n",
      "Loss after 20 iteration : 1.6069384813308716\n",
      "Loss after 30 iteration : 1.4725595712661743\n",
      "Loss after 40 iteration : 1.4013361930847168\n",
      "Loss after 50 iteration : 1.3411526679992676\n",
      "Loss after 60 iteration : 1.3060766458511353\n",
      "Loss after 70 iteration : 1.2838151454925537\n",
      "Loss after 80 iteration : 1.2572195529937744\n",
      "Loss after 90 iteration : 1.2362011671066284\n",
      "Loss after 100 iteration : 1.2250741720199585\n",
      "Time elapsed : 382.86 seconds\n",
      "Generated Text after 100 epoch : Hello Everybody , I am anene athas thedonene to t athist aned,, sen athedoup se stoutonedo t ase thathed,,,\"Llit athist s as s ane sed sened athat and s s s s t aned at s ast s s st tour aned t sthitoure anenend,,\" t at t a\n",
      "\n",
      "Loss after 110 iteration : 1.212751865386963\n",
      "Loss after 120 iteration : 1.1985867023468018\n",
      "Loss after 130 iteration : 1.1896401643753052\n",
      "Loss after 140 iteration : 1.1798182725906372\n",
      "Loss after 150 iteration : 1.165307641029358\n",
      "Loss after 160 iteration : 1.1631282567977905\n",
      "Loss after 170 iteration : 1.1553013324737549\n",
      "Loss after 180 iteration : 1.150071620941162\n",
      "Loss after 190 iteration : 1.1407740116119385\n",
      "Loss after 200 iteration : 1.1365658044815063\n",
      "Time elapsed : 762.06 seconds\n",
      "Generated Text after 200 epoch : Hello Everybody , I am atore out toun tororous,s aned orede tounererounder and tonder that thitoutouthaned an orous on as outhit on touse that oner an tone t on an oun as,sed,\"De atororederounerond,\"D, athised aneroror one \n",
      "\n",
      "Loss after 210 iteration : 1.1270078420639038\n",
      "Loss after 220 iteration : 1.1236011981964111\n",
      "Loss after 230 iteration : 1.1217349767684937\n",
      "Loss after 240 iteration : 1.1166331768035889\n",
      "Loss after 250 iteration : 1.1130988597869873\n",
      "Loss after 260 iteration : 1.1086924076080322\n",
      "Loss after 270 iteration : 1.1049484014511108\n",
      "Loss after 280 iteration : 1.0937870740890503\n",
      "Loss after 290 iteration : 1.0946135520935059\n",
      "Loss after 300 iteration : 1.0939397811889648\n",
      "Time elapsed : 1140.49 seconds\n",
      "Generated Text after 300 epoch : Hello Everybody , I am ouprt anertortherthandon thathit toupr athased toun t ane therthere athit orthised, asedoun toupr ond,se out tounedon an asere ase at thed oupedoupor ortound thered atoune and, toned ortort anedorerer\n",
      "\n",
      "Loss after 310 iteration : 1.0804352760314941\n",
      "Loss after 320 iteration : 1.075188398361206\n",
      "Loss after 330 iteration : 1.073492407798767\n",
      "Loss after 340 iteration : 1.0767507553100586\n",
      "Loss after 350 iteration : 1.0574296712875366\n",
      "Loss after 360 iteration : 1.0580509901046753\n",
      "Loss after 370 iteration : 1.0594277381896973\n",
      "Loss after 380 iteration : 1.058809757232666\n",
      "Loss after 390 iteration : 1.0521152019500732\n",
      "Loss after 400 iteration : 1.0531399250030518\n",
      "Time elapsed : 1520.36 seconds\n",
      "Generated Text after 400 epoch : Hello Everybody , I am atore s,s tortortore at t s,st the thando ton s, ther s ston tonedo athanertore ar thedo aton aredortort t s to andor arer ar sthinert sthartond s t at t athind,st thartherer s,\"Ll tond,s,s are tor at\n",
      "\n",
      "Loss after 410 iteration : 1.0537855625152588\n",
      "Loss after 420 iteration : 1.0419868230819702\n",
      "Loss after 430 iteration : 1.044408917427063\n",
      "Loss after 440 iteration : 1.0399469137191772\n",
      "Loss after 450 iteration : 1.0432530641555786\n",
      "Loss after 460 iteration : 1.0419996976852417\n",
      "Loss after 470 iteration : 1.024526834487915\n",
      "Loss after 480 iteration : 1.0306099653244019\n",
      "Loss after 490 iteration : 1.0273771286010742\n",
      "Loss after 500 iteration : 1.028654932975769\n",
      "Time elapsed : 1897.02 seconds\n",
      "Generated Text after 500 epoch : Hello Everybody , I am arone at s arout s tout at aner ar at at ar se athed,sed,\"Lle s s s, th sed, torout se tondour se thedond,\"Lll t sed,\"Lleredoredoron atorored tor s s,\"D, s,\"D athed,s an t s tone thindond,s, ar ar an \n",
      "\n",
      "Loss after 510 iteration : 1.02653968334198\n",
      "Loss after 520 iteration : 1.0190410614013672\n",
      "Loss after 530 iteration : 1.0233793258666992\n",
      "Loss after 540 iteration : 1.020081877708435\n",
      "Loss after 550 iteration : 1.0148210525512695\n",
      "Loss after 560 iteration : 1.0339224338531494\n",
      "Loss after 570 iteration : 1.0171669721603394\n",
      "Loss after 580 iteration : 1.0148850679397583\n",
      "Loss after 590 iteration : 1.0103139877319336\n",
      "Loss after 600 iteration : 1.0066262483596802\n",
      "Time elapsed : 2276.55 seconds\n",
      "Generated Text after 600 epoch : Hello Everybody , I am ter at t ter. s and as ted,\"Lle sed,\"D,ser ased, se andoredone tedor.is ated,\" and sered s, s s,ser.itedor. ase ate se thit t ath an as the ased ser ser sedorer ate se s, sed,s s, s the s an sere s te\n",
      "\n",
      "Loss after 610 iteration : 1.0109132528305054\n",
      "Loss after 620 iteration : 1.0031541585922241\n",
      "Loss after 630 iteration : 1.002437949180603\n",
      "Loss after 640 iteration : 1.0021007061004639\n",
      "Loss after 650 iteration : 1.0011283159255981\n",
      "Loss after 660 iteration : 0.9965777397155762\n",
      "Loss after 670 iteration : 0.987846851348877\n",
      "Loss after 680 iteration : 0.9923744201660156\n",
      "Loss after 690 iteration : 0.9933195114135742\n",
      "Loss after 700 iteration : 0.9966921210289001\n",
      "Time elapsed : 2654.28 seconds\n",
      "Generated Text after 700 epoch : Hello Everybody , I am sed s t se t tourtoutond,sered, and s, s, touserthed s,se aton s athertoutouse and an th s ase sert and s anerth anerth sedout at as,\" t t at s,s, t s s s s t thedoned,\"Llle toused,s an and t atored a\n",
      "\n",
      "Loss after 710 iteration : 0.9978668689727783\n",
      "Loss after 720 iteration : 0.990939736366272\n",
      "Loss after 730 iteration : 0.983587920665741\n",
      "Loss after 740 iteration : 0.9859175086021423\n",
      "Loss after 750 iteration : 0.999564528465271\n",
      "Loss after 760 iteration : 0.9814989566802979\n",
      "Loss after 770 iteration : 0.982889711856842\n",
      "Loss after 780 iteration : 0.9794160723686218\n",
      "Loss after 790 iteration : 0.9841965436935425\n",
      "Loss after 800 iteration : 0.9886448383331299\n",
      "Time elapsed : 3032.76 seconds\n",
      "Generated Text after 800 epoch : Hello Everybody , I am atond,s,\" anerthis, me atore mande aned aned mone mout ther tond, at mouthert athit tored ar at matoutone artheded an thed, t t aner mert me t mat at thede matouprert me t mer morer manere marert an a\n",
      "\n",
      "Loss after 810 iteration : 0.9891473650932312\n",
      "Loss after 820 iteration : 0.9861191511154175\n",
      "Loss after 830 iteration : 0.983976423740387\n",
      "Loss after 840 iteration : 0.9768779277801514\n",
      "Loss after 850 iteration : 0.9768356084823608\n",
      "Loss after 860 iteration : 0.9647527933120728\n",
      "Loss after 870 iteration : 0.9725438356399536\n",
      "Loss after 880 iteration : 0.9660179018974304\n",
      "Loss after 890 iteration : 0.9710487723350525\n",
      "Loss after 900 iteration : 0.9666891098022461\n",
      "Time elapsed : 3411.27 seconds\n",
      "Generated Text after 900 epoch : Hello Everybody , I am t t thartored t t toutouthart toned,sed, onere t t ar the tourer orthedouthan t ar touton touned,s,\"D,sert out the ort ond,sedound,\"Dorer the or on the thered toure t tonered,\"D arere athanerthathando\n",
      "\n",
      "Loss after 910 iteration : 0.9818451404571533\n",
      "Loss after 920 iteration : 0.9756617546081543\n",
      "Loss after 930 iteration : 0.9702174663543701\n",
      "Loss after 940 iteration : 0.9595872759819031\n",
      "Loss after 950 iteration : 0.9661054611206055\n",
      "Loss after 960 iteration : 0.9692056775093079\n",
      "Loss after 970 iteration : 0.9609841704368591\n",
      "Loss after 980 iteration : 0.97291499376297\n",
      "Loss after 990 iteration : 0.977693498134613\n"
     ]
    },
    {
     "data": {
      "image/png": "[encoded data removed]",
      "text/plain": [
       "<Figure size 432x288 with 1 Axes>"
      ]
     },
     "metadata": {
      "needs_background": "light",
      "tags": []
     },
     "output_type": "display_data"
    }
   ],
   "source": [
    "g1.train()"
   ]
  },
  {
   "cell_type": "code",
   "execution_count": 105,
   "metadata": {
    "colab": {
     "base_uri": "https://localhost:8080/",
     "height": 157
    },
    "colab_type": "code",
    "id": "HpThgJK68nDw",
    "outputId": "6be388d9-5893-4f9d-bda3-655e9f6dabc1"
   },
   "outputs": [
    {
     "data": {
      "application/vnd.google.colaboratory.intrinsic": {
       "type": "string"
      },
      "text/plain": [
       "'Hello Everybody , I am thane t on an athis,se onere ore oned on ore tore touthas oner as,\"D atoure t at and torthit orere as,sed athed, as ane t ous ator orer as onert t t oner anedous thathis, athas tous as toredor tondor thed, t tortond ased, aton on ored,se on orert ase on one orthe t andouthas,s,\"D tond ous,\" out an one athat thathis ous, tout thiner at thinered,sere thit ond, athere athandore outor orthind,s,\" out thise on ourtous, and, at aser outourtout t an anere andousedorthed as or andor t an anered oned,\" orthere outortorer tone t ond tonerertoredortond,\"Ld,\" ond,sed, t ore ous, asert an or orer t as ator t thasere ortor an ored at thiser tondouthe ort ton one ored,\"D thiser t t tort our ous,se orered, at ased outhandond than ous, orthan at ase that andortort ane as and ase aserer t t aser orer ase oner t t t ored, t at at t and,s aned,\" ase and,se onedoure t t and ator as t tone at at t outoured tor thathase tourthe t an thas,\" t ort atortone ase as ond,\"Lllld on tone thatored orered, ous,s,\"D t '"
      ]
     },
     "execution_count": 105,
     "metadata": {
      "tags": []
     },
     "output_type": "execute_result"
    }
   ],
   "source": [
    "g1.generate_text(predict_len = 1000)"
   ]
  },
  {
   "cell_type": "code",
   "execution_count": 99,
   "metadata": {
    "colab": {},
    "colab_type": "code",
    "id": "QytVplztCfbX"
   },
   "outputs": [],
   "source": []
  }
 ],
 "metadata": {
  "accelerator": "GPU",
  "colab": {
   "name": "Character Level Text Generation.ipynb",
   "provenance": []
  },
  "kernelspec": {
   "display_name": "Python 3",
   "language": "python",
   "name": "python3"
  },
  "language_info": {
   "codemirror_mode": {
    "name": "ipython",
    "version": 3
   },
   "file_extension": ".py",
   "mimetype": "text/x-python",
   "name": "python",
   "nbconvert_exporter": "python",
   "pygments_lexer": "ipython3",
   "version": "3.7.6"
  }
 },
 "nbformat": 4,
 "nbformat_minor": 1
}
